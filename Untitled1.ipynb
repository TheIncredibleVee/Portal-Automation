{
 "cells": [
  {
   "cell_type": "code",
   "execution_count": 2,
   "id": "53f993fc",
   "metadata": {},
   "outputs": [],
   "source": [
    "import os\n",
    "import sys\n",
    "os.path.dirname(sys.executable)\n",
    "from selenium.webdriver.common.by import By\n"
   ]
  },
  {
   "cell_type": "code",
   "execution_count": 3,
   "id": "9037986c",
   "metadata": {},
   "outputs": [
    {
     "name": "stdout",
     "output_type": "stream",
     "text": [
      "Reg not open\n",
      "Login Issue\n",
      "Reg not open\n",
      "Login Issue\n"
     ]
    }
   ],
   "source": [
    "from time import sleep\n",
    "from selenium import webdriver\n",
    "# this is tested on Firefox or you can use \"webdriver.Chrome()\"\n",
    "driver = webdriver.Chrome()\n",
    "for i in range(2):\n",
    "    try:    \n",
    "        driver.get('https://cumsdtu.in/registration_student/login/login.jsp?courseRegistration')\n",
    "        user= driver.find_element(By.XPATH,\"//input[@name='userName']\")\n",
    "        user.send_keys('')\n",
    "        passw= driver.find_element(By.XPATH,\"//input[@name='password']\")\n",
    "        passw.send_keys('')\n",
    "        login= driver.find_element(By.XPATH,\"//input[@value='Log In']\")\n",
    "        login.click()\n",
    "        print(\"Reg not open\")\n",
    "        sleep(8)\n",
    "        note= driver.find_element(By.XPATH,\"//div[@class='note']\")\n",
    "        print(\"Reg not open\")\n",
    "    except:\n",
    "        print(\"Login Issue\")\n",
    "    "
   ]
  }
 ],
 "metadata": {
  "kernelspec": {
   "display_name": "Python 3",
   "language": "python",
   "name": "python3"
  },
  "language_info": {
   "codemirror_mode": {
    "name": "ipython",
    "version": 3
   },
   "file_extension": ".py",
   "mimetype": "text/x-python",
   "name": "python",
   "nbconvert_exporter": "python",
   "pygments_lexer": "ipython3",
   "version": "3.8.8"
  }
 },
 "nbformat": 4,
 "nbformat_minor": 5
}
