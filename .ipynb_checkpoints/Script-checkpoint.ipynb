{
 "cells": [
  {
   "cell_type": "code",
   "execution_count": 17,
   "id": "c579ea40",
   "metadata": {},
   "outputs": [],
   "source": [
    "import os\n",
    "import sys\n",
    "os.path.dirname(sys.executable)\n",
    "from selenium.webdriver.common.by import By"
   ]
  },
  {
   "cell_type": "code",
   "execution_count": 18,
   "id": "99f3a070",
   "metadata": {},
   "outputs": [],
   "source": [
    "from time import sleep\n",
    "from selenium import webdriver\n",
    "# this is tested on Firefox or you can use \"webdriver.Chrome()\"\n",
    "driver = webdriver.Chrome()\n",
    "driver.get('https://cumsdtu.in/LSARegistration/LSARegistration?regId=HL8xPqIaIISdMMVisALxNw%3D%3D')"
   ]
  },
  {
   "cell_type": "code",
   "execution_count": null,
   "id": "a7cbc559",
   "metadata": {},
   "outputs": [],
   "source": []
  },
  {
   "cell_type": "code",
   "execution_count": null,
   "id": "15373366",
   "metadata": {},
   "outputs": [],
   "source": []
  },
  {
   "cell_type": "code",
   "execution_count": 21,
   "id": "25cb0c8d",
   "metadata": {},
   "outputs": [
    {
     "name": "stdout",
     "output_type": "stream",
     "text": [
      "<selenium.webdriver.remote.webelement.WebElement (session=\"b6e27a6216473050c41f170ba126bb4c\", element=\"fe5d1c57-da2e-4a73-b2b5-f369abcb4f5b\")>\n"
     ]
    }
   ],
   "source": [
    "l= driver.find_element(By.XPATH,\"//div[@title='Deep Learning with Artificial Neural Network']\")\n",
    "l.click()"
   ]
  },
  {
   "cell_type": "code",
   "execution_count": 25,
   "id": "67d83b0b",
   "metadata": {},
   "outputs": [],
   "source": [
    "bd= driver.find_element(By.XPATH,\"//div[@title='BIG DATA ANALYTICS']\")\n",
    "bd.click()"
   ]
  },
  {
   "cell_type": "code",
   "execution_count": 30,
   "id": "09fb523c",
   "metadata": {},
   "outputs": [],
   "source": [
    "cc= driver.find_element(By.XPATH,\"//div[@title='CLOUD COMPUTING FUNDAMENTALS']\")\n",
    "cc.click()"
   ]
  },
  {
   "cell_type": "code",
   "execution_count": 41,
   "id": "57387127",
   "metadata": {},
   "outputs": [],
   "source": [
    "from time import sleep\n",
    "from selenium import webdriver\n",
    "# this is tested on Firefox or you can use \"webdriver.Chrome()\"\n",
    "driver = webdriver.Chrome()\n",
    "driver.get('https://cumsdtu.in/registration_student/login/login.jsp?wxR3rQzJ91')\n",
    "user= driver.find_element(By.XPATH,\"//input[@name='userName']\")\n",
    "user.send_keys('2K19/EE/271')\n",
    "passw= driver.find_element(By.XPATH,\"//input[@name='password']\")\n",
    "passw.send_keys('TEMPceutR')\n",
    "login= driver.find_element(By.XPATH,\"//input[@value='Log In']\")\n",
    "login.click()"
   ]
  },
  {
   "cell_type": "code",
   "execution_count": 45,
   "id": "925d800f",
   "metadata": {},
   "outputs": [],
   "source": [
    "l= driver.find_element(By.XPATH,\"//div[@title='Deep Learning with Artificial Neural Network']\")\n",
    "bd= driver.find_element(By.XPATH,\"//div[@title='BIG DATA ANALYTICS']\")\n",
    "cc= driver.find_element(By.XPATH,\"//div[@title='CLOUD COMPUTING FUNDAMENTALS']\")\n",
    "for i in range(10):\n",
    "    l.click()\n",
    "    sleep(0.1)\n",
    "    bd.click()\n",
    "    sleep(0.1)\n",
    "    cc.click()\n",
    "    sleep(0.1)"
   ]
  }
 ],
 "metadata": {
  "kernelspec": {
   "display_name": "Python 3",
   "language": "python",
   "name": "python3"
  },
  "language_info": {
   "codemirror_mode": {
    "name": "ipython",
    "version": 3
   },
   "file_extension": ".py",
   "mimetype": "text/x-python",
   "name": "python",
   "nbconvert_exporter": "python",
   "pygments_lexer": "ipython3",
   "version": "3.8.8"
  }
 },
 "nbformat": 4,
 "nbformat_minor": 5
}
