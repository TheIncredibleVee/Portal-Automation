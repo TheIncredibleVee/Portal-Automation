{
 "cells": [
  {
   "cell_type": "code",
   "execution_count": 1,
   "id": "6cc0505a",
   "metadata": {},
   "outputs": [],
   "source": [
    "import os\n",
    "import sys\n",
    "os.path.dirname(sys.executable)\n",
    "from selenium.webdriver.common.by import By"
   ]
  },
  {
   "cell_type": "code",
   "execution_count": 2,
   "id": "9883ac14",
   "metadata": {},
   "outputs": [
    {
     "ename": "SessionNotCreatedException",
     "evalue": "Message: session not created: This version of ChromeDriver only supports Chrome version 96\nCurrent browser version is 98.0.4758.102 with binary path C:\\Program Files\\Google\\Chrome\\Application\\chrome.exe\nStacktrace:\nBacktrace:\n\tOrdinal0 [0x01246903+2517251]\n\tOrdinal0 [0x011DF8E1+2095329]\n\tOrdinal0 [0x010E2848+1058888]\n\tOrdinal0 [0x01100B9D+1182621]\n\tOrdinal0 [0x010FCA60+1165920]\n\tOrdinal0 [0x010FA2CF+1155791]\n\tOrdinal0 [0x0112AAAF+1354415]\n\tOrdinal0 [0x0112A71A+1353498]\n\tOrdinal0 [0x0112639B+1336219]\n\tOrdinal0 [0x011027A7+1189799]\n\tOrdinal0 [0x01103609+1193481]\n\tGetHandleVerifier [0x013D5904+1577972]\n\tGetHandleVerifier [0x01480B97+2279047]\n\tGetHandleVerifier [0x012D6D09+534521]\n\tGetHandleVerifier [0x012D5DB9+530601]\n\tOrdinal0 [0x011E4FF9+2117625]\n\tOrdinal0 [0x011E98A8+2136232]\n\tOrdinal0 [0x011E99E2+2136546]\n\tOrdinal0 [0x011F3541+2176321]\n\tBaseThreadInitThunk [0x75E06739+25]\n\tRtlGetFullPathName_UEx [0x774D8E7F+1215]\n\tRtlGetFullPathName_UEx [0x774D8E4D+1165]\n",
     "output_type": "error",
     "traceback": [
      "\u001b[1;31m---------------------------------------------------------------------------\u001b[0m",
      "\u001b[1;31mSessionNotCreatedException\u001b[0m                Traceback (most recent call last)",
      "\u001b[1;32m<ipython-input-2-240b720e1d5e>\u001b[0m in \u001b[0;36m<module>\u001b[1;34m\u001b[0m\n\u001b[0;32m      2\u001b[0m \u001b[1;32mfrom\u001b[0m \u001b[0mselenium\u001b[0m \u001b[1;32mimport\u001b[0m \u001b[0mwebdriver\u001b[0m\u001b[1;33m\u001b[0m\u001b[1;33m\u001b[0m\u001b[0m\n\u001b[0;32m      3\u001b[0m \u001b[1;31m# this is tested on Firefox or you can use \"webdriver.Chrome()\"\u001b[0m\u001b[1;33m\u001b[0m\u001b[1;33m\u001b[0m\u001b[1;33m\u001b[0m\u001b[0m\n\u001b[1;32m----> 4\u001b[1;33m \u001b[0mdriver\u001b[0m \u001b[1;33m=\u001b[0m \u001b[0mwebdriver\u001b[0m\u001b[1;33m.\u001b[0m\u001b[0mChrome\u001b[0m\u001b[1;33m(\u001b[0m\u001b[1;33m)\u001b[0m\u001b[1;33m\u001b[0m\u001b[1;33m\u001b[0m\u001b[0m\n\u001b[0m\u001b[0;32m      5\u001b[0m \u001b[0mdriver\u001b[0m\u001b[1;33m.\u001b[0m\u001b[0mget\u001b[0m\u001b[1;33m(\u001b[0m\u001b[1;34m'https://cumsdtu.in/LSARegistration/LSARegistration?regId=HL8xPqIaIISdMMVisALxNw%3D%3D'\u001b[0m\u001b[1;33m)\u001b[0m\u001b[1;33m\u001b[0m\u001b[1;33m\u001b[0m\u001b[0m\n",
      "\u001b[1;32mC:\\Anaconda\\lib\\site-packages\\selenium\\webdriver\\chrome\\webdriver.py\u001b[0m in \u001b[0;36m__init__\u001b[1;34m(self, executable_path, port, options, service_args, desired_capabilities, service_log_path, chrome_options, service, keep_alive)\u001b[0m\n\u001b[0;32m     67\u001b[0m             \u001b[0mservice\u001b[0m \u001b[1;33m=\u001b[0m \u001b[0mService\u001b[0m\u001b[1;33m(\u001b[0m\u001b[0mexecutable_path\u001b[0m\u001b[1;33m,\u001b[0m \u001b[0mport\u001b[0m\u001b[1;33m,\u001b[0m \u001b[0mservice_args\u001b[0m\u001b[1;33m,\u001b[0m \u001b[0mservice_log_path\u001b[0m\u001b[1;33m)\u001b[0m\u001b[1;33m\u001b[0m\u001b[1;33m\u001b[0m\u001b[0m\n\u001b[0;32m     68\u001b[0m \u001b[1;33m\u001b[0m\u001b[0m\n\u001b[1;32m---> 69\u001b[1;33m         super(WebDriver, self).__init__(DesiredCapabilities.CHROME['browserName'], \"goog\",\n\u001b[0m\u001b[0;32m     70\u001b[0m                                         \u001b[0mport\u001b[0m\u001b[1;33m,\u001b[0m \u001b[0moptions\u001b[0m\u001b[1;33m,\u001b[0m\u001b[1;33m\u001b[0m\u001b[1;33m\u001b[0m\u001b[0m\n\u001b[0;32m     71\u001b[0m                                         \u001b[0mservice_args\u001b[0m\u001b[1;33m,\u001b[0m \u001b[0mdesired_capabilities\u001b[0m\u001b[1;33m,\u001b[0m\u001b[1;33m\u001b[0m\u001b[1;33m\u001b[0m\u001b[0m\n",
      "\u001b[1;32mC:\\Anaconda\\lib\\site-packages\\selenium\\webdriver\\chromium\\webdriver.py\u001b[0m in \u001b[0;36m__init__\u001b[1;34m(self, browser_name, vendor_prefix, port, options, service_args, desired_capabilities, service_log_path, service, keep_alive)\u001b[0m\n\u001b[0;32m     91\u001b[0m \u001b[1;33m\u001b[0m\u001b[0m\n\u001b[0;32m     92\u001b[0m         \u001b[1;32mtry\u001b[0m\u001b[1;33m:\u001b[0m\u001b[1;33m\u001b[0m\u001b[1;33m\u001b[0m\u001b[0m\n\u001b[1;32m---> 93\u001b[1;33m             RemoteWebDriver.__init__(\n\u001b[0m\u001b[0;32m     94\u001b[0m                 \u001b[0mself\u001b[0m\u001b[1;33m,\u001b[0m\u001b[1;33m\u001b[0m\u001b[1;33m\u001b[0m\u001b[0m\n\u001b[0;32m     95\u001b[0m                 command_executor=ChromiumRemoteConnection(\n",
      "\u001b[1;32mC:\\Anaconda\\lib\\site-packages\\selenium\\webdriver\\remote\\webdriver.py\u001b[0m in \u001b[0;36m__init__\u001b[1;34m(self, command_executor, desired_capabilities, browser_profile, proxy, keep_alive, file_detector, options)\u001b[0m\n\u001b[0;32m    264\u001b[0m         \u001b[0mself\u001b[0m\u001b[1;33m.\u001b[0m\u001b[0mfile_detector\u001b[0m \u001b[1;33m=\u001b[0m \u001b[0mfile_detector\u001b[0m \u001b[1;32mor\u001b[0m \u001b[0mLocalFileDetector\u001b[0m\u001b[1;33m(\u001b[0m\u001b[1;33m)\u001b[0m\u001b[1;33m\u001b[0m\u001b[1;33m\u001b[0m\u001b[0m\n\u001b[0;32m    265\u001b[0m         \u001b[0mself\u001b[0m\u001b[1;33m.\u001b[0m\u001b[0mstart_client\u001b[0m\u001b[1;33m(\u001b[0m\u001b[1;33m)\u001b[0m\u001b[1;33m\u001b[0m\u001b[1;33m\u001b[0m\u001b[0m\n\u001b[1;32m--> 266\u001b[1;33m         \u001b[0mself\u001b[0m\u001b[1;33m.\u001b[0m\u001b[0mstart_session\u001b[0m\u001b[1;33m(\u001b[0m\u001b[0mcapabilities\u001b[0m\u001b[1;33m,\u001b[0m \u001b[0mbrowser_profile\u001b[0m\u001b[1;33m)\u001b[0m\u001b[1;33m\u001b[0m\u001b[1;33m\u001b[0m\u001b[0m\n\u001b[0m\u001b[0;32m    267\u001b[0m \u001b[1;33m\u001b[0m\u001b[0m\n\u001b[0;32m    268\u001b[0m     \u001b[1;32mdef\u001b[0m \u001b[0m__repr__\u001b[0m\u001b[1;33m(\u001b[0m\u001b[0mself\u001b[0m\u001b[1;33m)\u001b[0m\u001b[1;33m:\u001b[0m\u001b[1;33m\u001b[0m\u001b[1;33m\u001b[0m\u001b[0m\n",
      "\u001b[1;32mC:\\Anaconda\\lib\\site-packages\\selenium\\webdriver\\remote\\webdriver.py\u001b[0m in \u001b[0;36mstart_session\u001b[1;34m(self, capabilities, browser_profile)\u001b[0m\n\u001b[0;32m    355\u001b[0m         parameters = {\"capabilities\": w3c_caps,\n\u001b[0;32m    356\u001b[0m                       \"desiredCapabilities\": capabilities}\n\u001b[1;32m--> 357\u001b[1;33m         \u001b[0mresponse\u001b[0m \u001b[1;33m=\u001b[0m \u001b[0mself\u001b[0m\u001b[1;33m.\u001b[0m\u001b[0mexecute\u001b[0m\u001b[1;33m(\u001b[0m\u001b[0mCommand\u001b[0m\u001b[1;33m.\u001b[0m\u001b[0mNEW_SESSION\u001b[0m\u001b[1;33m,\u001b[0m \u001b[0mparameters\u001b[0m\u001b[1;33m)\u001b[0m\u001b[1;33m\u001b[0m\u001b[1;33m\u001b[0m\u001b[0m\n\u001b[0m\u001b[0;32m    358\u001b[0m         \u001b[1;32mif\u001b[0m \u001b[1;34m'sessionId'\u001b[0m \u001b[1;32mnot\u001b[0m \u001b[1;32min\u001b[0m \u001b[0mresponse\u001b[0m\u001b[1;33m:\u001b[0m\u001b[1;33m\u001b[0m\u001b[1;33m\u001b[0m\u001b[0m\n\u001b[0;32m    359\u001b[0m             \u001b[0mresponse\u001b[0m \u001b[1;33m=\u001b[0m \u001b[0mresponse\u001b[0m\u001b[1;33m[\u001b[0m\u001b[1;34m'value'\u001b[0m\u001b[1;33m]\u001b[0m\u001b[1;33m\u001b[0m\u001b[1;33m\u001b[0m\u001b[0m\n",
      "\u001b[1;32mC:\\Anaconda\\lib\\site-packages\\selenium\\webdriver\\remote\\webdriver.py\u001b[0m in \u001b[0;36mexecute\u001b[1;34m(self, driver_command, params)\u001b[0m\n\u001b[0;32m    416\u001b[0m         \u001b[0mresponse\u001b[0m \u001b[1;33m=\u001b[0m \u001b[0mself\u001b[0m\u001b[1;33m.\u001b[0m\u001b[0mcommand_executor\u001b[0m\u001b[1;33m.\u001b[0m\u001b[0mexecute\u001b[0m\u001b[1;33m(\u001b[0m\u001b[0mdriver_command\u001b[0m\u001b[1;33m,\u001b[0m \u001b[0mparams\u001b[0m\u001b[1;33m)\u001b[0m\u001b[1;33m\u001b[0m\u001b[1;33m\u001b[0m\u001b[0m\n\u001b[0;32m    417\u001b[0m         \u001b[1;32mif\u001b[0m \u001b[0mresponse\u001b[0m\u001b[1;33m:\u001b[0m\u001b[1;33m\u001b[0m\u001b[1;33m\u001b[0m\u001b[0m\n\u001b[1;32m--> 418\u001b[1;33m             \u001b[0mself\u001b[0m\u001b[1;33m.\u001b[0m\u001b[0merror_handler\u001b[0m\u001b[1;33m.\u001b[0m\u001b[0mcheck_response\u001b[0m\u001b[1;33m(\u001b[0m\u001b[0mresponse\u001b[0m\u001b[1;33m)\u001b[0m\u001b[1;33m\u001b[0m\u001b[1;33m\u001b[0m\u001b[0m\n\u001b[0m\u001b[0;32m    419\u001b[0m             response['value'] = self._unwrap_value(\n\u001b[0;32m    420\u001b[0m                 response.get('value', None))\n",
      "\u001b[1;32mC:\\Anaconda\\lib\\site-packages\\selenium\\webdriver\\remote\\errorhandler.py\u001b[0m in \u001b[0;36mcheck_response\u001b[1;34m(self, response)\u001b[0m\n\u001b[0;32m    241\u001b[0m                 \u001b[0malert_text\u001b[0m \u001b[1;33m=\u001b[0m \u001b[0mvalue\u001b[0m\u001b[1;33m[\u001b[0m\u001b[1;34m'alert'\u001b[0m\u001b[1;33m]\u001b[0m\u001b[1;33m.\u001b[0m\u001b[0mget\u001b[0m\u001b[1;33m(\u001b[0m\u001b[1;34m'text'\u001b[0m\u001b[1;33m)\u001b[0m\u001b[1;33m\u001b[0m\u001b[1;33m\u001b[0m\u001b[0m\n\u001b[0;32m    242\u001b[0m             \u001b[1;32mraise\u001b[0m \u001b[0mexception_class\u001b[0m\u001b[1;33m(\u001b[0m\u001b[0mmessage\u001b[0m\u001b[1;33m,\u001b[0m \u001b[0mscreen\u001b[0m\u001b[1;33m,\u001b[0m \u001b[0mstacktrace\u001b[0m\u001b[1;33m,\u001b[0m \u001b[0malert_text\u001b[0m\u001b[1;33m)\u001b[0m  \u001b[1;31m# type: ignore[call-arg]  # mypy is not smart enough here\u001b[0m\u001b[1;33m\u001b[0m\u001b[1;33m\u001b[0m\u001b[0m\n\u001b[1;32m--> 243\u001b[1;33m         \u001b[1;32mraise\u001b[0m \u001b[0mexception_class\u001b[0m\u001b[1;33m(\u001b[0m\u001b[0mmessage\u001b[0m\u001b[1;33m,\u001b[0m \u001b[0mscreen\u001b[0m\u001b[1;33m,\u001b[0m \u001b[0mstacktrace\u001b[0m\u001b[1;33m)\u001b[0m\u001b[1;33m\u001b[0m\u001b[1;33m\u001b[0m\u001b[0m\n\u001b[0m\u001b[0;32m    244\u001b[0m \u001b[1;33m\u001b[0m\u001b[0m\n\u001b[0;32m    245\u001b[0m     \u001b[1;32mdef\u001b[0m \u001b[0m_value_or_default\u001b[0m\u001b[1;33m(\u001b[0m\u001b[0mself\u001b[0m\u001b[1;33m,\u001b[0m \u001b[0mobj\u001b[0m\u001b[1;33m:\u001b[0m \u001b[0mMapping\u001b[0m\u001b[1;33m[\u001b[0m\u001b[0m_KT\u001b[0m\u001b[1;33m,\u001b[0m \u001b[0m_VT\u001b[0m\u001b[1;33m]\u001b[0m\u001b[1;33m,\u001b[0m \u001b[0mkey\u001b[0m\u001b[1;33m:\u001b[0m \u001b[0m_KT\u001b[0m\u001b[1;33m,\u001b[0m \u001b[0mdefault\u001b[0m\u001b[1;33m:\u001b[0m \u001b[0m_VT\u001b[0m\u001b[1;33m)\u001b[0m \u001b[1;33m->\u001b[0m \u001b[0m_VT\u001b[0m\u001b[1;33m:\u001b[0m\u001b[1;33m\u001b[0m\u001b[1;33m\u001b[0m\u001b[0m\n",
      "\u001b[1;31mSessionNotCreatedException\u001b[0m: Message: session not created: This version of ChromeDriver only supports Chrome version 96\nCurrent browser version is 98.0.4758.102 with binary path C:\\Program Files\\Google\\Chrome\\Application\\chrome.exe\nStacktrace:\nBacktrace:\n\tOrdinal0 [0x01246903+2517251]\n\tOrdinal0 [0x011DF8E1+2095329]\n\tOrdinal0 [0x010E2848+1058888]\n\tOrdinal0 [0x01100B9D+1182621]\n\tOrdinal0 [0x010FCA60+1165920]\n\tOrdinal0 [0x010FA2CF+1155791]\n\tOrdinal0 [0x0112AAAF+1354415]\n\tOrdinal0 [0x0112A71A+1353498]\n\tOrdinal0 [0x0112639B+1336219]\n\tOrdinal0 [0x011027A7+1189799]\n\tOrdinal0 [0x01103609+1193481]\n\tGetHandleVerifier [0x013D5904+1577972]\n\tGetHandleVerifier [0x01480B97+2279047]\n\tGetHandleVerifier [0x012D6D09+534521]\n\tGetHandleVerifier [0x012D5DB9+530601]\n\tOrdinal0 [0x011E4FF9+2117625]\n\tOrdinal0 [0x011E98A8+2136232]\n\tOrdinal0 [0x011E99E2+2136546]\n\tOrdinal0 [0x011F3541+2176321]\n\tBaseThreadInitThunk [0x75E06739+25]\n\tRtlGetFullPathName_UEx [0x774D8E7F+1215]\n\tRtlGetFullPathName_UEx [0x774D8E4D+1165]\n"
     ]
    }
   ],
   "source": [
    "from time import sleep\n",
    "from selenium import webdriver\n",
    "# this is tested on Firefox or you can use \"webdriver.Chrome()\"\n",
    "driver = webdriver.Chrome()\n",
    "driver.get('')"
   ]
  },
  {
   "cell_type": "code",
   "execution_count": null,
   "id": "6397f7a2",
   "metadata": {},
   "outputs": [],
   "source": []
  },
  {
   "cell_type": "code",
   "execution_count": null,
   "id": "2e186285",
   "metadata": {},
   "outputs": [],
   "source": []
  },
  {
   "cell_type": "code",
   "execution_count": 21,
   "id": "3437d21c",
   "metadata": {},
   "outputs": [
    {
     "name": "stdout",
     "output_type": "stream",
     "text": [
      "<selenium.webdriver.remote.webelement.WebElement (session=\"b6e27a6216473050c41f170ba126bb4c\", element=\"fe5d1c57-da2e-4a73-b2b5-f369abcb4f5b\")>\n"
     ]
    }
   ],
   "source": [
    "l= driver.find_element(By.XPATH,\"//div[@title='Deep Learning with Artificial Neural Network']\")\n",
    "l.click()"
   ]
  },
  {
   "cell_type": "code",
   "execution_count": 25,
   "id": "ca9721c0",
   "metadata": {},
   "outputs": [],
   "source": [
    "bd= driver.find_element(By.XPATH,\"//div[@title='BIG DATA ANALYTICS']\")\n",
    "bd.click()"
   ]
  },
  {
   "cell_type": "code",
   "execution_count": 30,
   "id": "c58aba6f",
   "metadata": {},
   "outputs": [],
   "source": [
    "cc= driver.find_element(By.XPATH,\"//div[@title='CLOUD COMPUTING FUNDAMENTALS']\")\n",
    "cc.click()"
   ]
  },
  {
   "cell_type": "code",
   "execution_count": 9,
   "id": "3f47ce2b",
   "metadata": {},
   "outputs": [],
   "source": [
    "from time import sleep\n",
    "from selenium import webdriver\n",
    "# this is tested on Firefox or you can use \"webdriver.Chrome()\"\n",
    "driver = webdriver.Chrome()\n"
   ]
  },
  {
   "cell_type": "code",
   "execution_count": null,
   "id": "263236b3",
   "metadata": {},
   "outputs": [],
   "source": [
    "for j in range(50000000):\n",
    "    try:\n",
    "        driver.get('https://cumsdtu.in/registration_student/login/login.jsp?courseRegistration')\n",
    "        user= driver.find_element(By.XPATH,\"//input[@name='userName']\")\n",
    "        user.send_keys('')\n",
    "        passw= driver.find_element(By.XPATH,\"//input[@name='password']\")\n",
    "        passw.send_keys('')\n",
    "        login= driver.find_element(By.XPATH,\"//input[@value='Log In']\")\n",
    "        login.click()\n",
    "        sleep(4)\n",
    "        l= driver.find_element(By.XPATH,\"//div[@title='Deep Learning with Artificial Neural Network']\")\n",
    "        bd= driver.find_element(By.XPATH,\"(//div[@title='BIG DATA ANALYTICS'])[2]\")\n",
    "        cc= driver.find_element(By.XPATH,\"//div[@title='CLOUD COMPUTING FUNDAMENTALS']\")\n",
    "        for i in range(500):\n",
    "            try:\n",
    "                reg1=driver.find_element(By.XPATH,\"//button[@class='narrow mat-button mat-save']\")\n",
    "                register= driver.find_element(By.XPATH,\"//button[@ng-reflect-color='save']\")\n",
    "                l.click()\n",
    "                register.click()\n",
    "                reg1.click()\n",
    "                sleep(0.4)\n",
    "                bd.click()\n",
    "                register.click()\n",
    "                reg1.click()\n",
    "                sleep(0.4)\n",
    "                cc.click()\n",
    "                sleep(0.4)\n",
    "                register.click()\n",
    "                reg1.click()\n",
    "            except:\n",
    "              print(\"An exception occurred\")\n",
    "    except:\n",
    "              print(\"An exception occurred\")"
   ]
  },
  {
   "cell_type": "code",
   "execution_count": null,
   "id": "5607019c",
   "metadata": {},
   "outputs": [],
   "source": [
    "for i in range(10):\n",
    "    l.click()\n",
    "    sleep(0.1)\n",
    "    bd.click()\n",
    "    sleep(0.1)\n",
    "    cc.click()\n",
    "    sleep(0.1)"
   ]
  }
 ],
 "metadata": {
  "kernelspec": {
   "display_name": "Python 3",
   "language": "python",
   "name": "python3"
  },
  "language_info": {
   "codemirror_mode": {
    "name": "ipython",
    "version": 3
   },
   "file_extension": ".py",
   "mimetype": "text/x-python",
   "name": "python",
   "nbconvert_exporter": "python",
   "pygments_lexer": "ipython3",
   "version": "3.8.8"
  }
 },
 "nbformat": 4,
 "nbformat_minor": 5
}
